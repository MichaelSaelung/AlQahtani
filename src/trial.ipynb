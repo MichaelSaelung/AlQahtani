{
 "cells": [
  {
   "cell_type": "code",
   "execution_count": null,
   "metadata": {},
   "outputs": [],
   "source": []
  }
 ],
 "metadata": {
  "kernelspec": {
   "display_name": "Python 3.9.7 ('AlQahtani_Env')",
   "language": "python",
   "name": "python3"
  },
  "language_info": {
   "name": "python",
   "version": "3.9.7"
  },
  "orig_nbformat": 4,
  "vscode": {
   "interpreter": {
    "hash": "9e0e272b3ffe8e678af4aa4c8fd2b53db50e69efff776970937fd6ca81b0b583"
   }
  }
 },
 "nbformat": 4,
 "nbformat_minor": 2
}
